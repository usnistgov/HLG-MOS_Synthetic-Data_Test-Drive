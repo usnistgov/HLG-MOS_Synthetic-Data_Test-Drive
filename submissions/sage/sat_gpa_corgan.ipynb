{
 "cells": [
  {
   "cell_type": "markdown",
   "metadata": {},
   "source": [
    "# Using ABSEHRD package for synthetic data challenge\n",
    "This notebook demonstrates Automated Brewering Synthetic Electronic Health Record Data (ABSEHRD) package functionality on the SAT GPA dataset supplied in the HLG-MOS Synthetic data challenge.  The ABSEHRD package adapts the implementation of CorGAN (Torfi et al. 2020. CorGAN: Correlation-Capturing Convolutional Generative Adversarial Networks for Generating Synthetic Healthcare Records. https://arxiv.org/abs/2001.09346).\n",
    "\n",
    "\n",
    "ABSEHRD installation instructions and additional information is available on GitHub: https://github.com/hhunterzinck/absehrd"
   ]
  },
  {
   "cell_type": "markdown",
   "metadata": {},
   "source": [
    "## Setup"
   ]
  },
  {
   "cell_type": "markdown",
   "metadata": {},
   "source": [
    "### Import and parameters"
   ]
  },
  {
   "cell_type": "code",
   "execution_count": 1,
   "metadata": {},
   "outputs": [],
   "source": [
    "import numpy as np\n",
    "import pandas as pd"
   ]
  },
  {
   "cell_type": "code",
   "execution_count": 2,
   "metadata": {},
   "outputs": [
    {
     "name": "stdout",
     "output_type": "stream",
     "text": [
      "mkdir: cannot create directory ‘data’: File exists\n",
      "mkdir: cannot create directory ‘output’: File exists\n"
     ]
    }
   ],
   "source": [
    "!mkdir data\n",
    "!mkdir output"
   ]
  },
  {
   "cell_type": "code",
   "execution_count": 3,
   "metadata": {},
   "outputs": [
    {
     "name": "stdout",
     "output_type": "stream",
     "text": [
      "--2022-01-27 09:16:41--  https://www.openintro.org/data/csv/satgpa.csv\n",
      "Resolving www.openintro.org (www.openintro.org)... 192.185.65.127\n",
      "Connecting to www.openintro.org (www.openintro.org)|192.185.65.127|:443... connected.\n",
      "HTTP request sent, awaiting response... 200 OK\n",
      "Length: 20106 (20K) [text/csv]\n",
      "Saving to: ‘satgpa.csv’\n",
      "\n",
      "satgpa.csv          100%[===================>]  19.63K  --.-KB/s    in 0.07s   \n",
      "\n",
      "2022-01-27 09:16:41 (294 KB/s) - ‘satgpa.csv’ saved [20106/20106]\n",
      "\n"
     ]
    }
   ],
   "source": [
    "!wget https://www.openintro.org/data/csv/satgpa.csv\n",
    "!mv satgpa.csv data/"
   ]
  },
  {
   "cell_type": "code",
   "execution_count": 4,
   "metadata": {},
   "outputs": [],
   "source": [
    "dir_data = 'data'\n",
    "dir_output = 'output'\n",
    "prefix = 'satgpa'"
   ]
  },
  {
   "cell_type": "markdown",
   "metadata": {},
   "source": [
    "### Read and explore dataset"
   ]
  },
  {
   "cell_type": "code",
   "execution_count": 5,
   "metadata": {},
   "outputs": [],
   "source": [
    "df = pd.read_csv(f'{dir_data}/{prefix}.csv', delimiter=',')"
   ]
  },
  {
   "cell_type": "code",
   "execution_count": 6,
   "metadata": {},
   "outputs": [
    {
     "name": "stdout",
     "output_type": "stream",
     "text": [
      "(1000, 6)\n"
     ]
    }
   ],
   "source": [
    "print(df.shape)"
   ]
  },
  {
   "cell_type": "code",
   "execution_count": 7,
   "metadata": {},
   "outputs": [
    {
     "name": "stdout",
     "output_type": "stream",
     "text": [
      "     sex  sat_v  sat_m  sat_sum  hs_gpa  fy_gpa\n",
      "0      1     65     62      127    3.40    3.18\n",
      "1      2     58     64      122    4.00    3.33\n",
      "2      2     56     60      116    3.75    3.25\n",
      "3      1     42     53       95    3.75    2.42\n",
      "4      1     55     52      107    4.00    2.63\n",
      "..   ...    ...    ...      ...     ...     ...\n",
      "995    2     50     50      100    3.70    2.19\n",
      "996    1     54     54      108    3.30    1.50\n",
      "997    1     56     58      114    3.50    3.17\n",
      "998    1     55     65      120    2.30    1.94\n",
      "999    1     49     44       93    2.70    2.38\n",
      "\n",
      "[1000 rows x 6 columns]\n"
     ]
    }
   ],
   "source": [
    "print(df)"
   ]
  },
  {
   "cell_type": "markdown",
   "metadata": {},
   "source": [
    "### Split into training and testing set"
   ]
  },
  {
   "cell_type": "code",
   "execution_count": 8,
   "metadata": {},
   "outputs": [],
   "source": [
    "x = df.to_numpy()"
   ]
  },
  {
   "cell_type": "code",
   "execution_count": 9,
   "metadata": {},
   "outputs": [
    {
     "name": "stdout",
     "output_type": "stream",
     "text": [
      "Number of training samples: 750\n",
      "Number of testing samples: 250\n"
     ]
    }
   ],
   "source": [
    "n_subset = round(len(x) * 0.75)\n",
    "idx_trn = np.random.choice(len(x), n_subset, replace=False)\n",
    "idx_tst = np.setdiff1d(range(len(x)), idx_trn)\n",
    "x_trn = x[idx_trn,:]\n",
    "x_tst = x[idx_tst,:]\n",
    "\n",
    "print('Number of training samples: '+str(len(x_trn)))\n",
    "print('Number of testing samples: '+str(len(x_tst)))"
   ]
  },
  {
   "cell_type": "code",
   "execution_count": 10,
   "metadata": {},
   "outputs": [],
   "source": [
    "# write to file\n",
    "df_trn = pd.DataFrame(x_trn)\n",
    "df_trn.columns = df.columns\n",
    "df_tst = pd.DataFrame(x_tst)\n",
    "df_tst.columns = df.columns\n",
    "\n",
    "df_trn.to_csv(f'{dir_output}/{prefix}_trn.csv', index = False)\n",
    "df_tst.to_csv(f'{dir_output}/{prefix}_tst.csv', index = False)"
   ]
  },
  {
   "cell_type": "markdown",
   "metadata": {},
   "source": [
    "## Generation"
   ]
  },
  {
   "cell_type": "markdown",
   "metadata": {},
   "source": [
    "### Train CorGAN model "
   ]
  },
  {
   "cell_type": "code",
   "execution_count": 11,
   "metadata": {},
   "outputs": [
    {
     "name": "stdout",
     "output_type": "stream",
     "text": [
      "\n",
      "Warning: decreasing batch size from 512 to 150 due to small dataset.\n",
      "Pre-training: 100%|█████| 100/100 [00:01<00:00, 57.61 epochs/s, [A loss: 3.141]]\n",
      "Training: 100%|█| 100/100 [00:14<00:00,  4.37 epochs/s, TRAIN: [Loss_D: -0.014] [Loss_G: 0.023] [Loss_D_real: 0.033] [Loss_D_fake 0.019] | TEST: [A loss: 3.18] [real accuracy: 98.67] [fake accuracy: 21.33]]  \n"
     ]
    }
   ],
   "source": [
    "!absehrd train \\\n",
    "    --file_data output/satgpa_trn.csv \\\n",
    "    --outprefix_train output/satgpa \\\n",
    "    --n_epoch 100 \\\n",
    "    --frac_train 1 \\\n",
    "    --verbose \\\n",
    "    --n_cpu_train 1"
   ]
  },
  {
   "cell_type": "markdown",
   "metadata": {},
   "source": [
    "### Generate synthetic samples"
   ]
  },
  {
   "cell_type": "code",
   "execution_count": 12,
   "metadata": {},
   "outputs": [],
   "source": [
    "!absehrd generate \\\n",
    "    --file_model output/satgpa.pkl \\\n",
    "    --outprefix_generate output/satgpa_syn \\\n",
    "    --generate_size 1000 \\\n",
    "    --n_cpu_generate 1"
   ]
  },
  {
   "cell_type": "code",
   "execution_count": 13,
   "metadata": {},
   "outputs": [],
   "source": [
    "!mkdir -p ../synthetic_datasets\n",
    "!cp output/satgpa_syn.csv ../synthetic_datasets"
   ]
  },
  {
   "cell_type": "markdown",
   "metadata": {},
   "source": [
    "### Preview synthetic dataset"
   ]
  },
  {
   "cell_type": "code",
   "execution_count": 14,
   "metadata": {},
   "outputs": [],
   "source": [
    "df_syn = pd.read_csv(f'{dir_output}/{prefix}_syn.csv')"
   ]
  },
  {
   "cell_type": "code",
   "execution_count": 15,
   "metadata": {},
   "outputs": [
    {
     "name": "stdout",
     "output_type": "stream",
     "text": [
      "     sex  sat_v  sat_m  sat_sum    hs_gpa    fy_gpa\n",
      "0    2.0   74.0   63.0    118.0  3.591259  3.784474\n",
      "1    1.0   74.0   47.0    117.0  1.887216  3.981789\n",
      "2    2.0   45.0   71.0     82.0  3.967049  0.874094\n",
      "3    1.0   44.0   76.0    143.0  2.984431  3.930748\n",
      "4    1.0   75.0   64.0     69.0  2.128014  2.150660\n",
      "..   ...    ...    ...      ...       ...       ...\n",
      "995  2.0   70.0   73.0    138.0  3.518326  1.666179\n",
      "996  2.0   65.0   35.0     56.0  2.768295  0.023680\n",
      "997  2.0   66.0   32.0     63.0  2.265948  3.219861\n",
      "998  1.0   42.0   63.0     87.0  1.871731  3.889534\n",
      "999  1.0   68.0   73.0    117.0  3.971414  3.987265\n",
      "\n",
      "[1000 rows x 6 columns]\n"
     ]
    }
   ],
   "source": [
    "print(df_syn)"
   ]
  },
  {
   "cell_type": "markdown",
   "metadata": {},
   "source": [
    "## Realism"
   ]
  },
  {
   "cell_type": "markdown",
   "metadata": {},
   "source": [
    "### Compare univariate frequency for real and synthetic features"
   ]
  },
  {
   "cell_type": "code",
   "execution_count": 16,
   "metadata": {},
   "outputs": [
    {
     "name": "stdout",
     "output_type": "stream",
     "text": [
      "\r\n",
      "Summary of feature_frequency:\r\n",
      "  > Frequency correlation (train): 1.0\r\n",
      "  > Frequency correlation (test): 0.99\r\n"
     ]
    }
   ],
   "source": [
    "!absehrd realism \\\n",
    "    --outprefix_realism output/satgpa \\\n",
    "    --file_realism_real_train output/satgpa_trn.csv \\\n",
    "    --file_realism_real_test output/satgpa_tst.csv \\\n",
    "    --file_realism_synth output/satgpa_syn.csv \\\n",
    "    --outcome sex \\\n",
    "    --analysis_realism feature_frequency \\\n",
    "    --output_realism all"
   ]
  },
  {
   "cell_type": "markdown",
   "metadata": {},
   "source": [
    "### Compare effect sizes\n",
    "Compare effect sizes from a train logistic regression method for a binary outcome between a model trained from real data and synthetic data."
   ]
  },
  {
   "cell_type": "code",
   "execution_count": 17,
   "metadata": {},
   "outputs": [
    {
     "name": "stdout",
     "output_type": "stream",
     "text": [
      "\r\n",
      "Summary of feature_effect:\r\n",
      "  > Importance correlation (train): 0.7\r\n",
      "  > Importance correlation (test): 0.77\r\n"
     ]
    }
   ],
   "source": [
    "!absehrd realism \\\n",
    "    --outprefix_realism output/satgpa \\\n",
    "    --file_realism_real_train output/satgpa_trn.csv \\\n",
    "    --file_realism_real_test output/satgpa_tst.csv \\\n",
    "    --file_realism_synth output/satgpa_syn.csv \\\n",
    "    --outcome sex \\\n",
    "    --analysis_realism feature_effect \\\n",
    "    --output_realism all"
   ]
  },
  {
   "cell_type": "markdown",
   "metadata": {},
   "source": [
    "### Compare predictive performance\n",
    "* Real: use real dataset to train predictive model and test on a separate real dataset\n",
    "* GAN-train: use synthetic dataset to train predictive model and test on a real dataset\n",
    "*GAN-test: use real dataset to train predictive model and test on the synthetic dataset"
   ]
  },
  {
   "cell_type": "code",
   "execution_count": 18,
   "metadata": {},
   "outputs": [
    {
     "name": "stdout",
     "output_type": "stream",
     "text": [
      "\r\n",
      "Summary of gan_train_test:\r\n",
      "  > Real AUC: 0.66\r\n",
      "  > GAN-train AUC: 0.64\r\n",
      "  > GAN-test AUC: 0.64\r\n"
     ]
    }
   ],
   "source": [
    "!absehrd realism \\\n",
    "    --outprefix_realism output/satgpa \\\n",
    "    --file_realism_real_train output/satgpa_trn.csv \\\n",
    "    --file_realism_real_test output/satgpa_tst.csv \\\n",
    "    --file_realism_synth output/satgpa_syn.csv \\\n",
    "    --outcome sex \\\n",
    "    --analysis_realism gan_train_test \\\n",
    "    --output_realism all"
   ]
  },
  {
   "cell_type": "markdown",
   "metadata": {},
   "source": [
    "## Privacy"
   ]
  },
  {
   "cell_type": "markdown",
   "metadata": {},
   "source": [
    "## Nearest neighbors\n",
    "Ensure that synthetic dataset is not a copy of the real dataset by comparing distances between pairs of real and synthetic samples\n",
    "* Real-real: distance between randomly selected pairs of real samples\n",
    "* Real-synthetic: distance between pairs of real and synthetic samples\n",
    "* Real-probabilistic: distance between a real sample and sampled binary vector where each column is sampled from a binomial where the frequency equals that in the real training set\n",
    "* Real-random: distance between a real sample and a randomly sampled binary vector"
   ]
  },
  {
   "cell_type": "markdown",
   "metadata": {},
   "source": [
    "Calculate, summarize, and plot nearest neighbor distributions:"
   ]
  },
  {
   "cell_type": "code",
   "execution_count": 19,
   "metadata": {},
   "outputs": [
    {
     "name": "stdout",
     "output_type": "stream",
     "text": [
      "\r\n",
      "Summary of nearest_neighbors:\r\n",
      "(note: average nearest neighbor distance)\r\n",
      "  > Real-real:             0.1\r\n",
      "  > Real-synthetic:        0.26\r\n",
      "  > Real-probabilistic:    0.79\r\n",
      "  > Real-random:           0.93\r\n"
     ]
    }
   ],
   "source": [
    "!absehrd privacy \\\n",
    "    --outprefix_privacy output/satgpa \\\n",
    "    --file_privacy_real_train output/satgpa_trn.csv \\\n",
    "    --file_privacy_real_test output/satgpa_tst.csv \\\n",
    "    --file_privacy_synth output/satgpa_syn.csv \\\n",
    "    --analysis_privacy nearest_neighbors \\\n",
    "    --output_privacy all"
   ]
  },
  {
   "cell_type": "markdown",
   "metadata": {},
   "source": [
    "## Membership inference\n",
    "Membership inference refers to the ability to determine if a given data sample was used to train a model of interest.  In the case of synthetic data, calculating the risk of accurate membership inference given a sample of synthetic data can provide a metric to assess risk to privacy of the synthetic dataset to individuals whose data was used to train the synthetic data generator.  \n",
    "\n",
    "Risk of membership inference can be assessed in multiple scenarios with differing assumptions about what data is available to the attacker."
   ]
  },
  {
   "cell_type": "markdown",
   "metadata": {},
   "source": [
    "### Distance-based thresholding\n",
    "Choi et al. (2017) and Torfi et al. (2020) calculated the distance between synthetic and real samples. Real samples were derived from the training dataset for the synthetic data generator and from a separate testing set.  Pairwise distances between synthetic and real samples were predicted as a match if the distance was within a specified threshold.  Predictions and labels were then compared to derived performance metrics for the membership inference attack. "
   ]
  },
  {
   "cell_type": "code",
   "execution_count": 20,
   "metadata": {},
   "outputs": [
    {
     "name": "stdout",
     "output_type": "stream",
     "text": [
      "\r\n",
      "Summary of membership_inference:\r\n",
      "  > Attack AUC: 0.56\r\n"
     ]
    }
   ],
   "source": [
    "!absehrd privacy \\\n",
    "    --outprefix_privacy output/satgpa \\\n",
    "    --file_privacy_real_train output/satgpa_trn.csv \\\n",
    "    --file_privacy_real_test output/satgpa_tst.csv \\\n",
    "    --file_privacy_synth output/satgpa_syn.csv \\\n",
    "    --analysis_privacy membership_inference \\\n",
    "    --output_privacy all"
   ]
  }
 ],
 "metadata": {
  "kernelspec": {
   "display_name": "absehrd",
   "language": "python",
   "name": "absehrd"
  },
  "language_info": {
   "codemirror_mode": {
    "name": "ipython",
    "version": 3
   },
   "file_extension": ".py",
   "mimetype": "text/x-python",
   "name": "python",
   "nbconvert_exporter": "python",
   "pygments_lexer": "ipython3",
   "version": "3.7.10"
  }
 },
 "nbformat": 4,
 "nbformat_minor": 4
}
